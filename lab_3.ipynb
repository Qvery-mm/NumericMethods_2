{
  "nbformat": 4,
  "nbformat_minor": 0,
  "metadata": {
    "colab": {
      "name": "lab-3",
      "provenance": [],
      "collapsed_sections": [],
      "authorship_tag": "ABX9TyO3BpqlD/YFouivMVemkHYq",
      "include_colab_link": true
    },
    "kernelspec": {
      "name": "python3",
      "display_name": "Python 3"
    }
  },
  "cells": [
    {
      "cell_type": "markdown",
      "metadata": {
        "id": "view-in-github",
        "colab_type": "text"
      },
      "source": [
        "<a href=\"https://colab.research.google.com/github/Qvery-mm/NumericMethods_2/blob/main/lab_3.ipynb\" target=\"_parent\"><img src=\"https://colab.research.google.com/assets/colab-badge.svg\" alt=\"Open In Colab\"/></a>"
      ]
    },
    {
      "cell_type": "markdown",
      "metadata": {
        "id": "aPqFmkO8xGrg"
      },
      "source": [
        "# Вычислительный практикум\n",
        "# Задание №3\n",
        "### Полная проблема собственных значений. Метод Якоби. Частичная проблема собственных. значений (степенной, скалярных приблтжений).\n",
        "## Ковальчуков Александр\n",
        "### 321 группа\n",
        "### Вариант №6"
      ]
    },
    {
      "cell_type": "code",
      "metadata": {
        "id": "RU0GdSMexIl8"
      },
      "source": [
        "import numpy as np\n",
        "from math import sqrt\n",
        "\n",
        "def sign(x):\n",
        "  if x > 0:\n",
        "    return 1\n",
        "  elif x < 0:\n",
        "    return -1\n",
        "  else:\n",
        "    return 0\n",
        "\n",
        "norm = np.linalg.norm"
      ],
      "execution_count": null,
      "outputs": []
    },
    {
      "cell_type": "markdown",
      "metadata": {
        "id": "XGK4fgHMx76q"
      },
      "source": [
        "# Параметры задачи"
      ]
    },
    {
      "cell_type": "code",
      "metadata": {
        "id": "eqK_Osw1xvfZ"
      },
      "source": [
        "__A = np.array([[-0.95121, -0.09779, 0.35843],\n",
        "              [ -0.09779, 0.61545, 0.02229],\n",
        "              [0.35843, 0.022286, -0.95729]])\n",
        "\n",
        "\n",
        "n  = __A.shape[0]\n",
        "\n",
        "eps = 10**-6"
      ],
      "execution_count": null,
      "outputs": []
    },
    {
      "cell_type": "markdown",
      "metadata": {
        "id": "MeYtSpn83WSf"
      },
      "source": [
        "# Метод Якоби"
      ]
    },
    {
      "cell_type": "code",
      "metadata": {
        "id": "Omutp8Mb3Mv4"
      },
      "source": [
        "X = np.eye(n)\n",
        "A = __A.copy()\n",
        "\n",
        "while True:\n",
        "  # поиск максимального по модулю наддиагонального элемента\n",
        "  m, i , j = 0, 0, 0\n",
        "  for y in range(n - 1):\n",
        "    for x in range(y + 1, n):\n",
        "        if abs(A[y, x]) >=m:\n",
        "          m, i , j = abs(A[y, x]), y, x\n",
        "  \n",
        "  if m < eps:\n",
        "    break\n",
        "  \n",
        "  d = sqrt((A[i, i] - A[j, j])**2 + 4 * A[i, j]**2 ) \n",
        "  c = sqrt(1/2 * (1 + abs(A[i, i] - A[j, j] ) / d))\n",
        "  s = sign( A[i, j] * (A[i,i] - A[j,j])) *  sqrt(1/2 * (1 - abs(A[i,i] - A[j,j]) / d))\n",
        "\n",
        "  V = np.eye(n)\n",
        "  V[i,i] = V[j,j]  = c\n",
        "  V[i , j] = -s\n",
        "  V[j, i] = s\n",
        "  \n",
        "  A =  np.dot(np.dot(V.T, A),  V)\n",
        "  X = np.dot(X, V)\n",
        "\n",
        "eigenvalues = np.diag(A)\n",
        "eigenvectors = [X[: ,0].reshape(n, 1), X[:, 1].reshape(n, 1), X[:, 2].reshape(n, 1)]\n",
        "for i in range(n):\n",
        "  eigenvectors[i] /= norm(eigenvectors[i], 2)\n"
      ],
      "execution_count": null,
      "outputs": []
    },
    {
      "cell_type": "markdown",
      "metadata": {
        "id": "j0q6_fuZO0vf"
      },
      "source": [
        "### Найденные собственные значения и векторы:"
      ]
    },
    {
      "cell_type": "code",
      "metadata": {
        "colab": {
          "base_uri": "https://localhost:8080/"
        },
        "id": "nwI-Jy_kOeM1",
        "outputId": "88245213-1531-48b1-daa3-f35332575929"
      },
      "source": [
        "print(eigenvalues, end='\\n\\n')\n",
        "for i in range(n):\n",
        "  print(eigenvectors[i], end='\\n\\n')"
      ],
      "execution_count": null,
      "outputs": [
        {
          "output_type": "stream",
          "text": [
            "[-0.59816791  0.6215304  -1.31641249]\n",
            "\n",
            "[[0.70574354]\n",
            " [0.04388178]\n",
            " [0.7071071 ]]\n",
            "\n",
            "[[-6.20591453e-02]\n",
            " [ 9.98072474e-01]\n",
            " [ 9.05988548e-07]]\n",
            "\n",
            "[[-0.70574409]\n",
            " [-0.0438831 ]\n",
            " [ 0.70710646]]\n",
            "\n"
          ],
          "name": "stdout"
        }
      ]
    },
    {
      "cell_type": "markdown",
      "metadata": {
        "id": "QwMOMGPmNvjB"
      },
      "source": [
        "### Проверка, что $||A v_i - \\lambda_i v_i ||_\\infty \\approx 0$\n",
        "\n",
        "\n"
      ]
    },
    {
      "cell_type": "code",
      "metadata": {
        "colab": {
          "base_uri": "https://localhost:8080/"
        },
        "id": "GHm24Tk1_0pv",
        "outputId": "4d0b963c-f5cd-4acf-fa25-b3cb2f0f7e29"
      },
      "source": [
        "for i in range(n):\n",
        "  diff = np.dot(__A, eigenvectors[i]) - eigenvalues[i] * eigenvectors[i]\n",
        "  print(norm(diff, np.inf))"
      ],
      "execution_count": null,
      "outputs": [
        {
          "output_type": "stream",
          "text": [
            "2.4747912908650027e-06\n",
            "2.2466863302356685e-06\n",
            "1.152522521863375e-11\n"
          ],
          "name": "stdout"
        }
      ]
    },
    {
      "cell_type": "markdown",
      "metadata": {
        "id": "kfCzr_cPSzaN"
      },
      "source": [
        "# Степенной метод"
      ]
    },
    {
      "cell_type": "code",
      "metadata": {
        "colab": {
          "base_uri": "https://localhost:8080/"
        },
        "id": "q4IAL6IaRft-",
        "outputId": "c6eb4071-acaa-483b-9f0b-02e869836017"
      },
      "source": [
        "A = __A.copy()\n",
        "eps = 10**-3\n",
        "y0 = y1 = np.random.rand(n, 1)\n",
        "counter = 0\n",
        "\n",
        "while True:\n",
        "  counter += 1\n",
        "  y0 = y1\n",
        "  y1 = np.dot(A, y0)\n",
        "  lamb = np.mean(y1) / np.mean(y0)\n",
        "  y1 = y1 / norm(y1, 2)\n",
        "  # апостриорная оценка\n",
        "  if norm(np.dot(A, y1) - lamb * y1, 2) / norm(y1, 2) < eps:\n",
        "    break\n",
        "\n",
        "print(\"lambda = \", lamb, end = '\\n\\n')\n",
        "print(\"v = \", y1, end = '\\n\\n')\n",
        "print(\"counter \", counter)"
      ],
      "execution_count": null,
      "outputs": [
        {
          "output_type": "stream",
          "text": [
            "lambda =  -1.3164124883445347\n",
            "\n",
            "v =  [[-0.70574409]\n",
            " [-0.0438831 ]\n",
            " [ 0.70710646]]\n",
            "\n",
            "counter  36\n"
          ],
          "name": "stdout"
        }
      ]
    },
    {
      "cell_type": "markdown",
      "metadata": {
        "id": "GJswI5ybbIMr"
      },
      "source": [
        "# Метод скалярных произведений"
      ]
    },
    {
      "cell_type": "code",
      "metadata": {
        "colab": {
          "base_uri": "https://localhost:8080/"
        },
        "id": "yJMpuP7kT13w",
        "outputId": "65c4818a-c811-48e6-aa9a-bbd729dd2058"
      },
      "source": [
        "A = __A.copy()\n",
        "eps = 10**-3\n",
        "y0 = y1 = np.random.rand(n, 1)\n",
        "counter = 0\n",
        "\n",
        "while True:\n",
        "  counter += 1\n",
        "  y0 = y1\n",
        "  y1 = np.dot(A, y0)\n",
        "  lamb = np.dot(y1.T, y0) / np.dot(y0.T, y0)\n",
        "  y1 = y1 / norm(y1, 2)\n",
        "  # апостриорная оценка\n",
        "  if norm(np.dot(A, y1) - lamb * y1, 2) / norm(y1, 2) < eps:\n",
        "    break\n",
        "\n",
        "print(\"lambda = \", lamb, end = '\\n\\n')\n",
        "print(\"v = \", y1, end = '\\n\\n')\n",
        "print(\"counter \", counter)"
      ],
      "execution_count": null,
      "outputs": [
        {
          "output_type": "stream",
          "text": [
            "lambda =  [[-1.31641249]]\n",
            "\n",
            "v =  [[ 0.70574409]\n",
            " [ 0.0438831 ]\n",
            " [-0.70710646]]\n",
            "\n",
            "counter  30\n"
          ],
          "name": "stdout"
        }
      ]
    },
    {
      "cell_type": "markdown",
      "metadata": {
        "id": "FX9qOKNhcQrG"
      },
      "source": [
        "### Количество итераций хотя и зависит от начального приближения $Y_0$, у метода скалярных произведений оно в среднем оказывается меньше."
      ]
    },
    {
      "cell_type": "code",
      "metadata": {
        "id": "nBi0RI98dOn_"
      },
      "source": [
        ""
      ],
      "execution_count": null,
      "outputs": []
    }
  ]
}