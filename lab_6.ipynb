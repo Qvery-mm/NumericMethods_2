{
  "nbformat": 4,
  "nbformat_minor": 0,
  "metadata": {
    "colab": {
      "name": "lab-6.ipynb",
      "provenance": [],
      "collapsed_sections": [],
      "authorship_tag": "ABX9TyPy+2Uj1UXx3UPsfL3K0HLd",
      "include_colab_link": true
    },
    "kernelspec": {
      "name": "python3",
      "display_name": "Python 3"
    }
  },
  "cells": [
    {
      "cell_type": "markdown",
      "metadata": {
        "id": "view-in-github",
        "colab_type": "text"
      },
      "source": [
        "<a href=\"https://colab.research.google.com/github/Qvery-mm/NumericMethods_2/blob/main/lab_6.ipynb\" target=\"_parent\"><img src=\"https://colab.research.google.com/assets/colab-badge.svg\" alt=\"Open In Colab\"/></a>"
      ]
    },
    {
      "cell_type": "markdown",
      "metadata": {
        "id": "CDAKPnEt1YJC"
      },
      "source": [
        "# Вычислительный практикум\n",
        "# Задание №6\n",
        "### Метод сеток для решения краевой задачи  (метод разностной прогонки).\n",
        "## Ковальчуков Александр\n",
        "### 321 группа\n",
        "### Вариант №6"
      ]
    },
    {
      "cell_type": "markdown",
      "metadata": {
        "id": "DPQRH5n8L9su"
      },
      "source": [
        "# Условия задачи\n",
        "\n",
        "$\\frac{x-2}{x + 2} u'' + xu' + (1 - sin x)u = x^2$\n",
        "\n",
        "$u(-1) = u(1) = 0$\n",
        "\n",
        "*Первая краевая задача*\n",
        "\n",
        "$p(x) = - \\frac{x-2}{x + 2}$\n",
        "\n",
        "$q(x) = x$\n",
        "\n",
        "$r(x) = 1 - \\sin{x}$\n",
        "\n",
        "$f(x) = x^2$\n",
        "\n",
        "$A_i = \\frac{-p_i}{h^2} - \\frac{q_i}{2h}$\n",
        "\n",
        "$B_i = \\frac{2p_i}{h^2} + r_i$\n",
        "\n",
        "$C_i = \\frac{-p_i}{h^2} + \\frac{q_i}{2h}$\n",
        "\n",
        "$G_i = f_i$\n",
        "\n",
        "$S_i = \\frac{C_i}{B_i - A_i s_{i-1}}$\n",
        "\n",
        "$t_i = \\frac{A_i t_{i-1} - G_i}{B_i - A_i s_{i-1}}$\n",
        "\n",
        "$u_0 = 0$\n",
        "\n",
        "$u_n = 0$"
      ]
    },
    {
      "cell_type": "code",
      "metadata": {
        "id": "TqA4jMAN2C6Z"
      },
      "source": [
        "from math import sin\n",
        "import numpy as np\n",
        "import pandas as pd\n",
        "from scipy.integrate import odeint\n",
        "import matplotlib.pyplot as plt\n",
        "p = lambda x: -(x-2) / (x + 2)\n",
        "q = lambda x: x\n",
        "r = lambda x: 1 - sin(x)\n",
        "f = lambda x: x**2\n",
        "a = -1\n",
        "b = 1\n",
        "u0 = 0\n",
        "un = 0"
      ],
      "execution_count": 11,
      "outputs": []
    },
    {
      "cell_type": "markdown",
      "metadata": {
        "id": "nTlINHGkty2w"
      },
      "source": [
        "# Метод прогонки"
      ]
    },
    {
      "cell_type": "code",
      "metadata": {
        "id": "1SQmquJRODMI"
      },
      "source": [
        "def slide(n):\n",
        "  h = (b - a) / n\n",
        "  A = []\n",
        "  B = []\n",
        "  C = []\n",
        "  G = []\n",
        "  s = []\n",
        "  t = []\n",
        "\n",
        "  for i in range(n + 1):\n",
        "    x = a + i * h\n",
        "    \n",
        "    if i == 0:\n",
        "      A_i = 0\n",
        "      B_i = 1\n",
        "      G_i = 0\n",
        "      C_i = 0\n",
        "      s_i = 0\n",
        "      t_i = 0\n",
        "      \n",
        "    elif i == n:\n",
        "      A_i = 0\n",
        "      B_i = 1\n",
        "      C_i = 0\n",
        "      G_i = 0\n",
        "      s_i = 0\n",
        "      t_i = un\n",
        "    else:\n",
        "      A_i = -p(x) / h**2 - q(x) / (2*h)\n",
        "      B_i = -(2 * p(x) / h**2 + r(x))\n",
        "      C_i = -p(x) / h**2 + q(x) / (2 * h)\n",
        "      G_i = f(x) \n",
        "      s_i = C_i / (B_i - A_i * s[-1])\n",
        "      t_i = (A_i * t[-1] - G_i) / (B_i - A_i * s[-1])\n",
        "    A.append(A_i)\n",
        "    B.append(B_i)\n",
        "    C.append(C_i)\n",
        "    G.append(G_i)\n",
        "    s.append(s_i)\n",
        "    t.append(t_i)\n",
        "  \n",
        "  u = []\n",
        "  u.append(un)\n",
        "  for i in range(n):\n",
        "    j = n - i - 1\n",
        "    u_j = s[j] * u[-1] + t[j]\n",
        "    u.append(u_j)\n",
        "\n",
        "  u = u[::-1]\n",
        "  return u\n"
      ],
      "execution_count": 12,
      "outputs": []
    },
    {
      "cell_type": "code",
      "metadata": {
        "id": "Biqmi8TLQUzT"
      },
      "source": [
        "def plot(u, title):\n",
        "  x_plot = np.linspace(a, b, len(u))\n",
        "  x_plot\n",
        "  plt.plot(x_plot, u, label='u')\n",
        "  plt.legend()\n",
        "  plt.xlabel(\"x\")\n",
        "  plt.ylabel(\"y\")\n",
        "  plt.title(title)\n",
        "  plt.show()\n"
      ],
      "execution_count": 13,
      "outputs": []
    },
    {
      "cell_type": "markdown",
      "metadata": {
        "id": "8Lod2xTGtujX"
      },
      "source": [
        "# Решение встроенными методами"
      ]
    },
    {
      "cell_type": "code",
      "metadata": {
        "id": "WcVU1Q8Jd0NI"
      },
      "source": [
        "\n",
        "def fun(x, y):\n",
        "    return np.vstack(( y[1], (x + 2) / (x - 2) * (-x * y[0] - (1 - np.sin(x)) * y[1] + x*x) ))\n",
        "\n",
        "def bc(ya, yb):\n",
        "    return np.array([ya[0], yb[0]])\n",
        "\n",
        "x = np.linspace(a, b, 11)\n",
        "\n",
        "y_a = np.ones((2, x.size))\n",
        "\n",
        "from scipy.integrate import solve_bvp\n",
        "res_a = solve_bvp(fun, bc, x, y_a)"
      ],
      "execution_count": 14,
      "outputs": []
    },
    {
      "cell_type": "code",
      "metadata": {
        "id": "o0Lp14FOL1Jj"
      },
      "source": [
        "x_plot = np.linspace(a, b, 11)\n",
        "y_plot = res_a.sol(x_plot)[0]\n"
      ],
      "execution_count": 15,
      "outputs": []
    },
    {
      "cell_type": "markdown",
      "metadata": {
        "id": "vAAQCOEdvdTT"
      },
      "source": [
        "# Уточнение по Ричардсону"
      ]
    },
    {
      "cell_type": "code",
      "metadata": {
        "colab": {
          "base_uri": "https://localhost:8080/"
        },
        "id": "o11BiYoclirg",
        "outputId": "d8063e6f-b7f7-4d64-a0f7-b33c4181e16a"
      },
      "source": [
        "u10 = slide(10)\n",
        "u20 = slide(20)\n",
        "R_m = np.array(u20[::2]) - np.array(u10) / (2**1 - 1)\n",
        "u_rev = np.array(u20[::2]) - R_m\n",
        "\n",
        "y_plot - u_rev"
      ],
      "execution_count": 16,
      "outputs": [
        {
          "output_type": "execute_result",
          "data": {
            "text/plain": [
              "array([ 0.00000000e+00, -3.17819645e-03, -2.72265008e-03, -1.00517108e-03,\n",
              "        3.62504123e-04,  6.43162060e-04, -3.02911417e-04, -2.57927248e-03,\n",
              "       -6.55084605e-03, -1.08727934e-02, -4.33680869e-18])"
            ]
          },
          "metadata": {
            "tags": []
          },
          "execution_count": 16
        }
      ]
    },
    {
      "cell_type": "code",
      "metadata": {
        "colab": {
          "base_uri": "https://localhost:8080/",
          "height": 390
        },
        "id": "LTUHC67OvA3p",
        "outputId": "3cc39ca4-93ee-4a24-d58f-464430a9f147"
      },
      "source": [
        "pd.DataFrame({\"Точное\": y_plot, \"Прогонка n=10\": u10, \"Прогонка n=20\": u20[::2], \"Уточнение\": u_rev})"
      ],
      "execution_count": 17,
      "outputs": [
        {
          "output_type": "execute_result",
          "data": {
            "text/html": [
              "<div>\n",
              "<style scoped>\n",
              "    .dataframe tbody tr th:only-of-type {\n",
              "        vertical-align: middle;\n",
              "    }\n",
              "\n",
              "    .dataframe tbody tr th {\n",
              "        vertical-align: top;\n",
              "    }\n",
              "\n",
              "    .dataframe thead th {\n",
              "        text-align: right;\n",
              "    }\n",
              "</style>\n",
              "<table border=\"1\" class=\"dataframe\">\n",
              "  <thead>\n",
              "    <tr style=\"text-align: right;\">\n",
              "      <th></th>\n",
              "      <th>Точное</th>\n",
              "      <th>Прогонка n=10</th>\n",
              "      <th>Прогонка n=20</th>\n",
              "      <th>Уточнение</th>\n",
              "    </tr>\n",
              "  </thead>\n",
              "  <tbody>\n",
              "    <tr>\n",
              "      <th>0</th>\n",
              "      <td>0.000000e+00</td>\n",
              "      <td>0.000000</td>\n",
              "      <td>0.000000</td>\n",
              "      <td>0.000000</td>\n",
              "    </tr>\n",
              "    <tr>\n",
              "      <th>1</th>\n",
              "      <td>2.595698e-02</td>\n",
              "      <td>0.029135</td>\n",
              "      <td>0.029709</td>\n",
              "      <td>0.029135</td>\n",
              "    </tr>\n",
              "    <tr>\n",
              "      <th>2</th>\n",
              "      <td>4.383767e-02</td>\n",
              "      <td>0.046560</td>\n",
              "      <td>0.047755</td>\n",
              "      <td>0.046560</td>\n",
              "    </tr>\n",
              "    <tr>\n",
              "      <th>3</th>\n",
              "      <td>5.589840e-02</td>\n",
              "      <td>0.056904</td>\n",
              "      <td>0.058745</td>\n",
              "      <td>0.056904</td>\n",
              "    </tr>\n",
              "    <tr>\n",
              "      <th>4</th>\n",
              "      <td>6.496975e-02</td>\n",
              "      <td>0.064607</td>\n",
              "      <td>0.067104</td>\n",
              "      <td>0.064607</td>\n",
              "    </tr>\n",
              "    <tr>\n",
              "      <th>5</th>\n",
              "      <td>7.391169e-02</td>\n",
              "      <td>0.073269</td>\n",
              "      <td>0.076410</td>\n",
              "      <td>0.073269</td>\n",
              "    </tr>\n",
              "    <tr>\n",
              "      <th>6</th>\n",
              "      <td>8.455764e-02</td>\n",
              "      <td>0.084861</td>\n",
              "      <td>0.088596</td>\n",
              "      <td>0.084861</td>\n",
              "    </tr>\n",
              "    <tr>\n",
              "      <th>7</th>\n",
              "      <td>9.585749e-02</td>\n",
              "      <td>0.098437</td>\n",
              "      <td>0.102622</td>\n",
              "      <td>0.098437</td>\n",
              "    </tr>\n",
              "    <tr>\n",
              "      <th>8</th>\n",
              "      <td>1.008189e-01</td>\n",
              "      <td>0.107370</td>\n",
              "      <td>0.111634</td>\n",
              "      <td>0.107370</td>\n",
              "    </tr>\n",
              "    <tr>\n",
              "      <th>9</th>\n",
              "      <td>8.148175e-02</td>\n",
              "      <td>0.092355</td>\n",
              "      <td>0.095747</td>\n",
              "      <td>0.092355</td>\n",
              "    </tr>\n",
              "    <tr>\n",
              "      <th>10</th>\n",
              "      <td>-4.336809e-18</td>\n",
              "      <td>0.000000</td>\n",
              "      <td>0.000000</td>\n",
              "      <td>0.000000</td>\n",
              "    </tr>\n",
              "  </tbody>\n",
              "</table>\n",
              "</div>"
            ],
            "text/plain": [
              "          Точное  Прогонка n=10  Прогонка n=20  Уточнение\n",
              "0   0.000000e+00       0.000000       0.000000   0.000000\n",
              "1   2.595698e-02       0.029135       0.029709   0.029135\n",
              "2   4.383767e-02       0.046560       0.047755   0.046560\n",
              "3   5.589840e-02       0.056904       0.058745   0.056904\n",
              "4   6.496975e-02       0.064607       0.067104   0.064607\n",
              "5   7.391169e-02       0.073269       0.076410   0.073269\n",
              "6   8.455764e-02       0.084861       0.088596   0.084861\n",
              "7   9.585749e-02       0.098437       0.102622   0.098437\n",
              "8   1.008189e-01       0.107370       0.111634   0.107370\n",
              "9   8.148175e-02       0.092355       0.095747   0.092355\n",
              "10 -4.336809e-18       0.000000       0.000000   0.000000"
            ]
          },
          "metadata": {
            "tags": []
          },
          "execution_count": 17
        }
      ]
    },
    {
      "cell_type": "markdown",
      "metadata": {
        "id": "XbW2Bx8Exwwt"
      },
      "source": [
        "# Красивые графики"
      ]
    },
    {
      "cell_type": "code",
      "metadata": {
        "colab": {
          "base_uri": "https://localhost:8080/",
          "height": 295
        },
        "id": "IaLIBOc7v5u6",
        "outputId": "377def0a-0e3c-42d7-f2d8-124bfef302eb"
      },
      "source": [
        "plot(u10, \"Прогонка n=10\")"
      ],
      "execution_count": 18,
      "outputs": [
        {
          "output_type": "display_data",
          "data": {
            "image/png": "[encoded data removed]",
            "text/plain": [
              "<Figure size 432x288 with 1 Axes>"
            ]
          },
          "metadata": {
            "tags": [],
            "needs_background": "light"
          }
        }
      ]
    },
    {
      "cell_type": "code",
      "metadata": {
        "colab": {
          "base_uri": "https://localhost:8080/",
          "height": 295
        },
        "id": "on32wgFnv8XB",
        "outputId": "87958b0e-ba52-4b71-8306-a2011e60a8d5"
      },
      "source": [
        "plot(u20, \"Прогонка n=20\")"
      ],
      "execution_count": 19,
      "outputs": [
        {
          "output_type": "display_data",
          "data": {
            "image/png": "[encoded data removed]",
            "text/plain": [
              "<Figure size 432x288 with 1 Axes>"
            ]
          },
          "metadata": {
            "tags": [],
            "needs_background": "light"
          }
        }
      ]
    },
    {
      "cell_type": "code",
      "metadata": {
        "colab": {
          "base_uri": "https://localhost:8080/",
          "height": 295
        },
        "id": "6CItHO-fx5ES",
        "outputId": "6da25d50-ff1c-4e2d-f73b-507ec5f93898"
      },
      "source": [
        "plot(y_plot,  \"Решение встроенным методом\")"
      ],
      "execution_count": 20,
      "outputs": [
        {
          "output_type": "display_data",
          "data": {
            "image/png": "[encoded data removed]",
            "text/plain": [
              "<Figure size 432x288 with 1 Axes>"
            ]
          },
          "metadata": {
            "tags": [],
            "needs_background": "light"
          }
        }
      ]
    },
    {
      "cell_type": "code",
      "metadata": {
        "id": "VJt5lmQxx7jR"
      },
      "source": [
        ""
      ],
      "execution_count": 20,
      "outputs": []
    }
  ]
}