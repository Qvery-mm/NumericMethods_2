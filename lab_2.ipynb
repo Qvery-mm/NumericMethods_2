{
  "nbformat": 4,
  "nbformat_minor": 0,
  "metadata": {
    "colab": {
      "name": "lab-2.ipynb",
      "provenance": [],
      "collapsed_sections": []
    },
    "kernelspec": {
      "name": "python3",
      "display_name": "Python 3"
    }
  },
  "cells": [
    {
      "cell_type": "markdown",
      "metadata": {
        "id": "aPqFmkO8xGrg"
      },
      "source": [
        "# Вычислительный практикум\n",
        "# Задание №2\n",
        "### Итерационные методы (простой итерации, Зейделя, верхней релаксации) решения СЛАУ. \n",
        "## Ковальчуков Александр\n",
        "### 321 группа\n",
        "### Вариант №6"
      ]
    },
    {
      "cell_type": "code",
      "metadata": {
        "id": "RU0GdSMexIl8"
      },
      "source": [
        "import numpy as np"
      ],
      "execution_count": 228,
      "outputs": []
    },
    {
      "cell_type": "markdown",
      "metadata": {
        "id": "XGK4fgHMx76q"
      },
      "source": [
        "# Параметры задачи"
      ]
    },
    {
      "cell_type": "code",
      "metadata": {
        "id": "eqK_Osw1xvfZ"
      },
      "source": [
        "A = np.array([[ 9.016024, 1.082197, -2.783575],\n",
        "              [ 1.082197, 6.846595,  0.647647],\n",
        "              [-2.783575, 0.647647,  5.432541]])\n",
        "\n",
        "\n",
        "b = np.array([[-1.340873],[4.179164],[5.478007]])\n",
        "\n",
        "n, m  = A.shape"
      ],
      "execution_count": 229,
      "outputs": []
    },
    {
      "cell_type": "markdown",
      "metadata": {
        "id": "PFnzrJJNyanG"
      },
      "source": [
        "# Схема Гаусса"
      ]
    },
    {
      "cell_type": "code",
      "metadata": {
        "id": "iX2KpkRQx_-y"
      },
      "source": [
        "def solve_Gauss(A, b):\n",
        "    A = np.hstack((A, b))\n",
        "    x = np.zeros((3, 1))\n",
        "\n",
        "    # Прямой ход\n",
        "    for k in range(n):\n",
        "        if abs(A[k, k]) < epsilon:\n",
        "            raise ZeroDivisionError\n",
        "        A[k, :] /= A[k, k]\n",
        "        for i in range(k + 1, n):\n",
        "            A[i, :] -= A[k, :] * A[i, k]\n",
        "\n",
        "    # Обратный ход\n",
        "    for i in range(0, n)[::-1]:\n",
        "        x[i] = A[i, n] - np.dot(A[i, :-1], x)\n",
        "\n",
        "    return x"
      ],
      "execution_count": 230,
      "outputs": []
    },
    {
      "cell_type": "code",
      "metadata": {
        "colab": {
          "base_uri": "https://localhost:8080/"
        },
        "id": "tiEYG2HLyfgM",
        "outputId": "01cb54d1-4ebb-4af2-9f99-aeca207a2148"
      },
      "source": [
        "x_g = solve_Gauss(A.copy(), b.copy())\n",
        "x_g"
      ],
      "execution_count": 231,
      "outputs": [
        {
          "output_type": "execute_result",
          "data": {
            "text/plain": [
              "array([[0.10000016],\n",
              "       [0.49999994],\n",
              "       [1.00000009]])"
            ]
          },
          "metadata": {
            "tags": []
          },
          "execution_count": 231
        }
      ]
    },
    {
      "cell_type": "markdown",
      "metadata": {
        "id": "JXV64zer6ncR"
      },
      "source": [
        "# Метод простой итерации"
      ]
    },
    {
      "cell_type": "code",
      "metadata": {
        "id": "p320QBdTyklD"
      },
      "source": [
        "D = A * np.eye(n)\n",
        "H_D = np.eye(n) - np.dot(np.linalg.inv(D), A)\n",
        "g_D = np.dot(np.linalg.inv(D), b)"
      ],
      "execution_count": 232,
      "outputs": []
    },
    {
      "cell_type": "code",
      "metadata": {
        "id": "uzIvF7G-zJOH"
      },
      "source": [
        "x0 = np.zeros((n, 1))\n",
        "x1 = x0\n",
        "\n",
        "for i in range(10):\n",
        "  x0 = x1\n",
        "  x1 = np.dot(H_D, x0) + g_D"
      ],
      "execution_count": 233,
      "outputs": []
    },
    {
      "cell_type": "code",
      "metadata": {
        "id": "qz0AlVMM3snK"
      },
      "source": [
        "H_norm = np.linalg.norm(H_D, ord=np.inf)"
      ],
      "execution_count": 234,
      "outputs": []
    },
    {
      "cell_type": "markdown",
      "metadata": {
        "id": "4QJpizI5F9LK"
      },
      "source": [
        "### Апостриорная оценка погрешности (по норме $||\\; . ||_\\infty$)"
      ]
    },
    {
      "cell_type": "code",
      "metadata": {
        "colab": {
          "base_uri": "https://localhost:8080/"
        },
        "id": "-XSH8V6O5d9X",
        "outputId": "c296ffe7-a19f-4ffd-bb43-ed58a5ac3c23"
      },
      "source": [
        "apost = H_norm / (1 - H_norm) * np.linalg.norm(x0 - x1, ord=np.inf)\n",
        "apost"
      ],
      "execution_count": 235,
      "outputs": [
        {
          "output_type": "execute_result",
          "data": {
            "text/plain": [
              "0.0004462394087822607"
            ]
          },
          "metadata": {
            "tags": []
          },
          "execution_count": 235
        }
      ]
    },
    {
      "cell_type": "markdown",
      "metadata": {
        "id": "yQAsZfVAGRU0"
      },
      "source": [
        "### Фактическая погрешность"
      ]
    },
    {
      "cell_type": "code",
      "metadata": {
        "colab": {
          "base_uri": "https://localhost:8080/"
        },
        "id": "WP-wDDW41pLq",
        "outputId": "56df5a63-1d0a-4457-f161-377b70596fe4"
      },
      "source": [
        "fact_it = np.linalg.norm(x - x_g, ord=np.inf)\n",
        "fact_it"
      ],
      "execution_count": 236,
      "outputs": [
        {
          "output_type": "execute_result",
          "data": {
            "text/plain": [
              "0.00019986670824589936"
            ]
          },
          "metadata": {
            "tags": []
          },
          "execution_count": 236
        }
      ]
    },
    {
      "cell_type": "markdown",
      "metadata": {
        "id": "w6HNXGbG6sar"
      },
      "source": [
        "# Метод Зейделя"
      ]
    },
    {
      "cell_type": "code",
      "metadata": {
        "id": "J3vaPNTq6vC0"
      },
      "source": [
        "H_R = np.tril(np.ones(n * (n-1) // 2)).T\n",
        "H_L = np.ones((n, n)) - H_R"
      ],
      "execution_count": 237,
      "outputs": []
    },
    {
      "cell_type": "code",
      "metadata": {
        "id": "2DTz_gEq7ooZ"
      },
      "source": [
        "H_R = H_R * H_D\n",
        "H_L = H_L *  H_D"
      ],
      "execution_count": 238,
      "outputs": []
    },
    {
      "cell_type": "code",
      "metadata": {
        "id": "bWOqiIUB8NFU"
      },
      "source": [
        "x0 = np.zeros((n, 1))\n",
        "x1 = x0\n",
        "\n",
        "CC = np.dot(np.linalg.inv(np.eye(n) - H_L), H_R)\n",
        "DD = np.linalg.inv(np.eye(n) - H_L)\n",
        "\n",
        "for i in range(10):\n",
        "  x0 = x1\n",
        "  x1 = np.dot(CC, x0) + np.dot(DD, g_D)"
      ],
      "execution_count": 239,
      "outputs": []
    },
    {
      "cell_type": "code",
      "metadata": {
        "colab": {
          "base_uri": "https://localhost:8080/"
        },
        "id": "chiwp5VzGiN7",
        "outputId": "7ffa9969-7345-4195-9c2b-80d9e341eef2"
      },
      "source": [
        "x1"
      ],
      "execution_count": 240,
      "outputs": [
        {
          "output_type": "execute_result",
          "data": {
            "text/plain": [
              "array([[0.09999982],\n",
              "       [0.50000007],\n",
              "       [0.9999999 ]])"
            ]
          },
          "metadata": {
            "tags": []
          },
          "execution_count": 240
        }
      ]
    },
    {
      "cell_type": "markdown",
      "metadata": {
        "id": "l0YhedwTGmrT"
      },
      "source": [
        "### Фактическая погрешность"
      ]
    },
    {
      "cell_type": "code",
      "metadata": {
        "colab": {
          "base_uri": "https://localhost:8080/"
        },
        "id": "g-pYRtMr9LnW",
        "outputId": "55843ae7-c877-4709-fd58-f5284835b334"
      },
      "source": [
        "fact_ze = np.linalg.norm(x1 - x_g, ord=np.inf)\n",
        "fact_ze"
      ],
      "execution_count": 241,
      "outputs": [
        {
          "output_type": "execute_result",
          "data": {
            "text/plain": [
              "3.355385834458158e-07"
            ]
          },
          "metadata": {
            "tags": []
          },
          "execution_count": 241
        }
      ]
    },
    {
      "cell_type": "markdown",
      "metadata": {
        "id": "v8liFjwkGteP"
      },
      "source": [
        "### Спектральный радиус"
      ]
    },
    {
      "cell_type": "code",
      "metadata": {
        "colab": {
          "base_uri": "https://localhost:8080/"
        },
        "id": "NIxqGcYq-H8r",
        "outputId": "0e96ddf5-a0ae-45ae-9fdf-2968112e7b29"
      },
      "source": [
        "rho = max(abs(np.linalg.eig(CC)[0]))\n",
        "rho"
      ],
      "execution_count": 242,
      "outputs": [
        {
          "output_type": "execute_result",
          "data": {
            "text/plain": [
              "0.22062938182072944"
            ]
          },
          "metadata": {
            "tags": []
          },
          "execution_count": 242
        }
      ]
    },
    {
      "cell_type": "markdown",
      "metadata": {
        "id": "UWYKnwTFHDcG"
      },
      "source": [
        "# Приближение по Люстернику"
      ]
    },
    {
      "cell_type": "code",
      "metadata": {
        "id": "rkXapyLg_kRO"
      },
      "source": [
        "x2 = x0 + 1/(1 + rho) * (x1 - x0)"
      ],
      "execution_count": 243,
      "outputs": []
    },
    {
      "cell_type": "code",
      "metadata": {
        "colab": {
          "base_uri": "https://localhost:8080/"
        },
        "id": "QwnZAaoCAcu9",
        "outputId": "b407a385-3397-46e9-bc4e-7f93d55fcc9c"
      },
      "source": [
        "x2"
      ],
      "execution_count": 244,
      "outputs": [
        {
          "output_type": "execute_result",
          "data": {
            "text/plain": [
              "array([[0.09999961],\n",
              "       [0.50000016],\n",
              "       [0.99999978]])"
            ]
          },
          "metadata": {
            "tags": []
          },
          "execution_count": 244
        }
      ]
    },
    {
      "cell_type": "code",
      "metadata": {
        "colab": {
          "base_uri": "https://localhost:8080/"
        },
        "id": "EO_V8yHCAdTx",
        "outputId": "d38b0403-031f-4543-c442-fee487697d8f"
      },
      "source": [
        "fact_lu = np.linalg.norm(x2 - x_g, ord=np.inf)\n",
        "fact_lu"
      ],
      "execution_count": 245,
      "outputs": [
        {
          "output_type": "execute_result",
          "data": {
            "text/plain": [
              "5.497796264630761e-07"
            ]
          },
          "metadata": {
            "tags": []
          },
          "execution_count": 245
        }
      ]
    },
    {
      "cell_type": "markdown",
      "metadata": {
        "id": "ZL9-iqc7AmHD"
      },
      "source": [
        "# Метод верхней релаксации"
      ]
    },
    {
      "cell_type": "code",
      "metadata": {
        "colab": {
          "base_uri": "https://localhost:8080/"
        },
        "id": "xIaQBKDNAqVI",
        "outputId": "79c62cef-1d09-4543-899d-9c598726f2e7"
      },
      "source": [
        "q = 2/(1 + (1 - rho**2)**(1/2))\n",
        "q"
      ],
      "execution_count": 246,
      "outputs": [
        {
          "output_type": "execute_result",
          "data": {
            "text/plain": [
              "1.0124748459022919"
            ]
          },
          "metadata": {
            "tags": []
          },
          "execution_count": 246
        }
      ]
    },
    {
      "cell_type": "code",
      "metadata": {
        "id": "rJK1zbgwCDsI"
      },
      "source": [
        "\n",
        "x0 = np.zeros((n,1))\n",
        "x1 = x1\n",
        "for t in range(10):\n",
        "  x0 = x1\n",
        "  for i in range(n):\n",
        "    x1[i] = x0[i] + q * (np.dot(H_D[i, :], x1) - x0[i]+ g_D[i])"
      ],
      "execution_count": 247,
      "outputs": []
    },
    {
      "cell_type": "code",
      "metadata": {
        "colab": {
          "base_uri": "https://localhost:8080/"
        },
        "id": "4UM4eVySI1KU",
        "outputId": "4aebff85-f328-4c3c-b6ef-10bdca149c26"
      },
      "source": [
        "x1"
      ],
      "execution_count": 248,
      "outputs": [
        {
          "output_type": "execute_result",
          "data": {
            "text/plain": [
              "array([[0.10000016],\n",
              "       [0.49999994],\n",
              "       [1.00000009]])"
            ]
          },
          "metadata": {
            "tags": []
          },
          "execution_count": 248
        }
      ]
    },
    {
      "cell_type": "code",
      "metadata": {
        "colab": {
          "base_uri": "https://localhost:8080/"
        },
        "id": "Sy6DotXTEAwf",
        "outputId": "9b86d239-2fe5-435b-cdb4-67a7af0ebdfa"
      },
      "source": [
        "fact_re = np.linalg.norm(x1 - x_g, ord=np.inf)\n",
        "fact_re"
      ],
      "execution_count": 249,
      "outputs": [
        {
          "output_type": "execute_result",
          "data": {
            "text/plain": [
              "3.862188346914763e-14"
            ]
          },
          "metadata": {
            "tags": []
          },
          "execution_count": 249
        }
      ]
    },
    {
      "cell_type": "markdown",
      "metadata": {
        "id": "n-B9TmU9HiSV"
      },
      "source": [
        "# Сравнение методов"
      ]
    },
    {
      "cell_type": "markdown",
      "metadata": {
        "id": "OtPPuexcHqwg"
      },
      "source": [
        "### Решение методом Гаусса"
      ]
    },
    {
      "cell_type": "code",
      "metadata": {
        "colab": {
          "base_uri": "https://localhost:8080/"
        },
        "id": "rk4CBIWfHmCd",
        "outputId": "95914bf4-9754-4b06-ff6f-7548ad61f86f"
      },
      "source": [
        "x_g"
      ],
      "execution_count": 250,
      "outputs": [
        {
          "output_type": "execute_result",
          "data": {
            "text/plain": [
              "array([[0.10000016],\n",
              "       [0.49999994],\n",
              "       [1.00000009]])"
            ]
          },
          "metadata": {
            "tags": []
          },
          "execution_count": 250
        }
      ]
    },
    {
      "cell_type": "markdown",
      "metadata": {
        "id": "NXTXzea-Hz2s"
      },
      "source": [
        "### Погрешность метода простой итерации"
      ]
    },
    {
      "cell_type": "code",
      "metadata": {
        "colab": {
          "base_uri": "https://localhost:8080/"
        },
        "id": "FSkdO7WsHxKE",
        "outputId": "96a21a68-0e97-4c88-b16d-32f567ecb914"
      },
      "source": [
        "fact_it"
      ],
      "execution_count": 251,
      "outputs": [
        {
          "output_type": "execute_result",
          "data": {
            "text/plain": [
              "0.00019986670824589936"
            ]
          },
          "metadata": {
            "tags": []
          },
          "execution_count": 251
        }
      ]
    },
    {
      "cell_type": "markdown",
      "metadata": {
        "id": "jn4wYMx_IE13"
      },
      "source": [
        "### Погрешность метода Зейделя"
      ]
    },
    {
      "cell_type": "code",
      "metadata": {
        "colab": {
          "base_uri": "https://localhost:8080/"
        },
        "id": "VxUNIhkGIAai",
        "outputId": "4f6dcd0e-66d8-4424-e996-13c6cb2730cf"
      },
      "source": [
        "fact_ze"
      ],
      "execution_count": 252,
      "outputs": [
        {
          "output_type": "execute_result",
          "data": {
            "text/plain": [
              "3.355385834458158e-07"
            ]
          },
          "metadata": {
            "tags": []
          },
          "execution_count": 252
        }
      ]
    },
    {
      "cell_type": "markdown",
      "metadata": {
        "id": "WQF6arrPIRNY"
      },
      "source": [
        "### Погрешность метода Зейделя с приближением по Люстернику"
      ]
    },
    {
      "cell_type": "code",
      "metadata": {
        "colab": {
          "base_uri": "https://localhost:8080/"
        },
        "id": "4O9wOE01IQL2",
        "outputId": "ce1ea4fc-ad9c-4294-9229-1f1faa85a36f"
      },
      "source": [
        "fact_lu"
      ],
      "execution_count": 253,
      "outputs": [
        {
          "output_type": "execute_result",
          "data": {
            "text/plain": [
              "5.497796264630761e-07"
            ]
          },
          "metadata": {
            "tags": []
          },
          "execution_count": 253
        }
      ]
    },
    {
      "cell_type": "markdown",
      "metadata": {
        "id": "EuMNUtVbIeeC"
      },
      "source": [
        "### Погрешность метода верхней релаксации"
      ]
    },
    {
      "cell_type": "code",
      "metadata": {
        "colab": {
          "base_uri": "https://localhost:8080/"
        },
        "id": "oPw0dTtoId51",
        "outputId": "4a45937e-8501-4a95-8166-b4d320ffa1db"
      },
      "source": [
        "fact_re"
      ],
      "execution_count": 254,
      "outputs": [
        {
          "output_type": "execute_result",
          "data": {
            "text/plain": [
              "3.862188346914763e-14"
            ]
          },
          "metadata": {
            "tags": []
          },
          "execution_count": 254
        }
      ]
    }
  ]
}