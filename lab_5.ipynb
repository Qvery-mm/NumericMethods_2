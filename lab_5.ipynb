{
  "nbformat": 4,
  "nbformat_minor": 0,
  "metadata": {
    "colab": {
      "name": "lab-5.ipynb",
      "provenance": [],
      "collapsed_sections": [],
      "toc_visible": true,
      "authorship_tag": "ABX9TyP/5DmwFBBzmygFCWaUrUpO",
      "include_colab_link": true
    },
    "kernelspec": {
      "name": "python3",
      "display_name": "Python 3"
    }
  },
  "cells": [
    {
      "cell_type": "markdown",
      "metadata": {
        "id": "view-in-github",
        "colab_type": "text"
      },
      "source": [
        "<a href=\"https://colab.research.google.com/github/Qvery-mm/NumericMethods_2/blob/main/lab_5.ipynb\" target=\"_parent\"><img src=\"https://colab.research.google.com/assets/colab-badge.svg\" alt=\"Open In Colab\"/></a>"
      ]
    },
    {
      "cell_type": "markdown",
      "metadata": {
        "id": "M4GeT5BPA1dR"
      },
      "source": [
        "# Вычислительный практикум\n",
        "# Задание №5\n",
        "### Жесткие системы.\n",
        "## Ковальчуков Александр\n",
        "### 321 группа\n",
        "### Вариант №6"
      ]
    },
    {
      "cell_type": "markdown",
      "metadata": {
        "id": "Io-whksVA8Yl"
      },
      "source": [
        "# Условия задачи"
      ]
    },
    {
      "cell_type": "code",
      "metadata": {
        "id": "lZzDciBO-0DE"
      },
      "source": [
        "import numpy as np\n",
        "import matplotlib.pyplot as plt\n",
        "import pandas as pd\n",
        "A = np.array([[-125, 123.3], \n",
        "              [123.3, -123]])\n",
        "y0 = np.array([[1], \n",
        "              [1]])\n",
        "n = A.shape[0]"
      ],
      "execution_count": 150,
      "outputs": []
    },
    {
      "cell_type": "markdown",
      "metadata": {
        "id": "7l0wgKjc1h1N"
      },
      "source": [
        "# Точное решение"
      ]
    },
    {
      "cell_type": "code",
      "metadata": {
        "id": "xfUjbAUyCVhU"
      },
      "source": [
        "eigenvalues = np.linalg.eig(A)[0]\n",
        "eigenvectors = np.linalg.eig(A)[1]\n",
        "U = np.linalg.eig(A)[1]\n",
        "ff = np.linalg.solve(U, y0)\n",
        "W = ff.T * U"
      ],
      "execution_count": 151,
      "outputs": []
    },
    {
      "cell_type": "code",
      "metadata": {
        "id": "I0qfXL--xjrg"
      },
      "source": [
        "def f(t):\n",
        "  x = np.exp(t * eigenvalues)\n",
        "  return np.dot(W, x.T)\n",
        "\n",
        "def exact(a, b, h):\n",
        "  ans = []\n",
        "  m = int((b - a) / h) + 1\n",
        "  for i in range(m):\n",
        "    ans.append(f(a + i * h).reshape(1, n))\n",
        "  return ans"
      ],
      "execution_count": 152,
      "outputs": []
    },
    {
      "cell_type": "markdown",
      "metadata": {
        "id": "A0Ci7VH64Sqt"
      },
      "source": [
        "# Метод Эйлера"
      ]
    },
    {
      "cell_type": "code",
      "metadata": {
        "id": "EDbwd-jPDrbM"
      },
      "source": [
        "def euler(a, b, h):\n",
        "  y = y0\n",
        "  m = int((b - a) / h)\n",
        "  E = np.eye(n)\n",
        "  ans = [y.reshape(1, n)]\n",
        "  for i in range(m):\n",
        "    y = np.dot(E + h * A,  y)\n",
        "    ans.append(y.reshape(1, n))\n",
        "  return ans  "
      ],
      "execution_count": 153,
      "outputs": []
    },
    {
      "cell_type": "code",
      "metadata": {
        "colab": {
          "base_uri": "https://localhost:8080/"
        },
        "id": "o0ES0uL45kkA",
        "outputId": "a881cc1a-3b2a-4095-a8cf-ab6637040673"
      },
      "source": [
        "euler(0, 0.5, 0.1)"
      ],
      "execution_count": 154,
      "outputs": [
        {
          "output_type": "execute_result",
          "data": {
            "text/plain": [
              "[array([[1, 1]]),\n",
              " array([[0.83, 1.03]]),\n",
              " array([[ 3.1549, -1.4051]]),\n",
              " array([[-53.606233,  54.777547]]),\n",
              " array([[ 1291.87883401, -1279.95113399]]),\n",
              " array([[-30638.40407321,  30392.31383743]])]"
            ]
          },
          "metadata": {
            "tags": []
          },
          "execution_count": 154
        }
      ]
    },
    {
      "cell_type": "markdown",
      "metadata": {
        "id": "cXtk8eu57W9z"
      },
      "source": [
        "# Обратный метод Эйлера"
      ]
    },
    {
      "cell_type": "code",
      "metadata": {
        "id": "7oeDMbYJ7a_K"
      },
      "source": [
        "def reverse_euler(a, b, h):\n",
        "  y = y0\n",
        "  m = int((b - a) / h)\n",
        "  E = np.eye(n)\n",
        "  ans = [y.reshape(1, n)]\n",
        "  for i in range(m):\n",
        "    y = np.dot(np.linalg.inv(E - h * A),  y)\n",
        "    ans.append(y.reshape(1, n))\n",
        "  return ans  "
      ],
      "execution_count": 155,
      "outputs": []
    },
    {
      "cell_type": "code",
      "metadata": {
        "colab": {
          "base_uri": "https://localhost:8080/"
        },
        "id": "pXUncPwv7a_L",
        "outputId": "14239a4c-63b8-4897-a38f-89aeb305c884"
      },
      "source": [
        "reverse_euler(0, 0.5, 0.1)"
      ],
      "execution_count": 156,
      "outputs": [
        {
          "output_type": "execute_result",
          "data": {
            "text/plain": [
              "[array([[1, 1]]),\n",
              " array([[0.93128545, 0.9385526 ]]),\n",
              " array([[0.87054842, 0.87762516]]),\n",
              " array([[0.8138996 , 0.82052685]]),\n",
              " array([[0.76094199, 0.76713847]]),\n",
              " array([[0.71143035, 0.71722366]])]"
            ]
          },
          "metadata": {
            "tags": []
          },
          "execution_count": 156
        }
      ]
    },
    {
      "cell_type": "markdown",
      "metadata": {
        "id": "yPM0gxoZ77fv"
      },
      "source": [
        "# Интерполяционный метод Адамса 2 порядка"
      ]
    },
    {
      "cell_type": "code",
      "metadata": {
        "id": "9U_Asnb88Avx"
      },
      "source": [
        "def adams_2ord(a, b, h):\n",
        "  y = y0\n",
        "  m = int((b - a) / h)\n",
        "  E = np.eye(n)\n",
        "  ans = [y.reshape(1, n)]\n",
        "  for i in range(m):\n",
        "    y = np.dot(np.dot(np.linalg.inv(E - h * A / 2), E + h * A / 2), y)\n",
        "    ans.append(y.reshape(1, n))\n",
        "  return ans  "
      ],
      "execution_count": 157,
      "outputs": []
    },
    {
      "cell_type": "code",
      "metadata": {
        "colab": {
          "base_uri": "https://localhost:8080/"
        },
        "id": "kXFN9fWN834M",
        "outputId": "598e2ddb-2070-491c-eb1f-e0c3bc3199c3"
      },
      "source": [
        "adams_2ord(0, 0.5, 0.1)"
      ],
      "execution_count": 158,
      "outputs": [
        {
          "output_type": "execute_result",
          "data": {
            "text/plain": [
              "[array([[1, 1]]),\n",
              " array([[0.92548594, 0.93994696]]),\n",
              " array([[0.86941655, 0.87060796]]),\n",
              " array([[0.80569496, 0.81726314]]),\n",
              " array([[0.75597264, 0.75787072]]),\n",
              " array([[0.70133422, 0.71066611]])]"
            ]
          },
          "metadata": {
            "tags": []
          },
          "execution_count": 158
        }
      ]
    },
    {
      "cell_type": "markdown",
      "metadata": {
        "id": "c0wl2UvO4n3Y"
      },
      "source": [
        "# Метод Эйлера устойчив при $h < 0.008087$"
      ]
    },
    {
      "cell_type": "code",
      "metadata": {
        "colab": {
          "base_uri": "https://localhost:8080/"
        },
        "id": "AbSCgq3pCwiT",
        "outputId": "a0d62682-83f5-4562-bb87-7b1e78582d6a"
      },
      "source": [
        "lamb = max(map(abs, eigenvalues))\n",
        "h = 2 / lamb\n",
        "h"
      ],
      "execution_count": 159,
      "outputs": [
        {
          "output_type": "execute_result",
          "data": {
            "text/plain": [
              "0.008087210698287415"
            ]
          },
          "metadata": {
            "tags": []
          },
          "execution_count": 159
        }
      ]
    },
    {
      "cell_type": "markdown",
      "metadata": {
        "id": "2w0h7Ej1GkDE"
      },
      "source": [
        "# Обратный метод Эйлера устойчив при всех $h$, поскольку с.ч $A$ отрицательны и c.ч. $(E - Ah)^{-1}$ по модулю меньше 1"
      ]
    },
    {
      "cell_type": "markdown",
      "metadata": {
        "id": "DZWc7JJ7dwr_"
      },
      "source": [
        "# Метод Адамса 2 порядка устойчив при всех $h$, поскольку $\\lambda_i ((E - hA)^{-1}(E + hA)) = \\frac{1 + h \\lambda_i(A)}{1 - h \\lambda_i(A)}$, что по модулю меньше 1, когда c.ч. $A$ отрицательные"
      ]
    },
    {
      "cell_type": "code",
      "metadata": {
        "id": "l9lEIAh2drqp"
      },
      "source": [
        "def compare(a, b, h):\n",
        "  k = int((b - a) / h) + 1\n",
        "  ex = np.array(exact(a, b, h)).reshape(k, 2)\n",
        "  eu = np.array(euler(a, b, h)).reshape(k, 2)\n",
        "  re_eu = np.array(reverse_euler(a, b, h)).reshape(k, 2)\n",
        "  ad = np.array(adams_2ord(a, b, h)).reshape(k, 2)\n",
        "  return pd.DataFrame( {\"Точное y1\": ex[:, 0], \n",
        "                      \"Точное y2\": ex[:, 1],\n",
        "                      \"М. Эйлера y1\": ex[:, 0] - eu[:, 0],\n",
        "                      \"М. Эйлера y2\": ex[:, 1] - eu[:, 1],\n",
        "                      \"Обр. м. Э y1\": ex[:, 0] - re_eu[:, 0],\n",
        "                      \"Обр. м. Э y2\": ex[:, 1] - re_eu[:, 1],\n",
        "                      \"м. Адамса y1\": ex[:, 0] - ad[:, 0],\n",
        "                      \"м. Адамса y2\": ex[:, 1] - ad[:, 1],\n",
        "                       })"
      ],
      "execution_count": 187,
      "outputs": []
    },
    {
      "cell_type": "code",
      "metadata": {
        "colab": {
          "base_uri": "https://localhost:8080/",
          "height": 235
        },
        "id": "0DjF3Q44wH6s",
        "outputId": "8f287508-3112-478b-dc51-45e2a33bf2c4"
      },
      "source": [
        "compare(0, 0.5, 0.1)"
      ],
      "execution_count": 188,
      "outputs": [
        {
          "output_type": "execute_result",
          "data": {
            "text/html": [
              "<div>\n",
              "<style scoped>\n",
              "    .dataframe tbody tr th:only-of-type {\n",
              "        vertical-align: middle;\n",
              "    }\n",
              "\n",
              "    .dataframe tbody tr th {\n",
              "        vertical-align: top;\n",
              "    }\n",
              "\n",
              "    .dataframe thead th {\n",
              "        text-align: right;\n",
              "    }\n",
              "</style>\n",
              "<table border=\"1\" class=\"dataframe\">\n",
              "  <thead>\n",
              "    <tr style=\"text-align: right;\">\n",
              "      <th></th>\n",
              "      <th>Точное y1</th>\n",
              "      <th>Точное y2</th>\n",
              "      <th>М. Эйлера y1</th>\n",
              "      <th>М. Эйлера y2</th>\n",
              "      <th>Обр. м. Э y1</th>\n",
              "      <th>Обр. м. Э y2</th>\n",
              "      <th>м. Адамса y1</th>\n",
              "      <th>м. Адамса y2</th>\n",
              "    </tr>\n",
              "  </thead>\n",
              "  <tbody>\n",
              "    <tr>\n",
              "      <th>0</th>\n",
              "      <td>1.000000</td>\n",
              "      <td>1.000000</td>\n",
              "      <td>0.000000</td>\n",
              "      <td>2.220446e-16</td>\n",
              "      <td>0.000000</td>\n",
              "      <td>2.220446e-16</td>\n",
              "      <td>0.000000</td>\n",
              "      <td>2.220446e-16</td>\n",
              "    </tr>\n",
              "    <tr>\n",
              "      <th>1</th>\n",
              "      <td>0.928974</td>\n",
              "      <td>0.936539</td>\n",
              "      <td>0.098974</td>\n",
              "      <td>-9.346094e-02</td>\n",
              "      <td>-0.002311</td>\n",
              "      <td>-2.013543e-03</td>\n",
              "      <td>0.003488</td>\n",
              "      <td>-3.407906e-03</td>\n",
              "    </tr>\n",
              "    <tr>\n",
              "      <th>2</th>\n",
              "      <td>0.866521</td>\n",
              "      <td>0.873577</td>\n",
              "      <td>-2.288379</td>\n",
              "      <td>2.278677e+00</td>\n",
              "      <td>-0.004027</td>\n",
              "      <td>-4.047756e-03</td>\n",
              "      <td>-0.002895</td>\n",
              "      <td>2.969436e-03</td>\n",
              "    </tr>\n",
              "    <tr>\n",
              "      <th>3</th>\n",
              "      <td>0.808267</td>\n",
              "      <td>0.814849</td>\n",
              "      <td>54.414500</td>\n",
              "      <td>-5.396270e+01</td>\n",
              "      <td>-0.005633</td>\n",
              "      <td>-5.678324e-03</td>\n",
              "      <td>0.002572</td>\n",
              "      <td>-2.414608e-03</td>\n",
              "    </tr>\n",
              "    <tr>\n",
              "      <th>4</th>\n",
              "      <td>0.753929</td>\n",
              "      <td>0.760068</td>\n",
              "      <td>-1291.124906</td>\n",
              "      <td>1.280711e+03</td>\n",
              "      <td>-0.007013</td>\n",
              "      <td>-7.070584e-03</td>\n",
              "      <td>-0.002044</td>\n",
              "      <td>2.197168e-03</td>\n",
              "    </tr>\n",
              "    <tr>\n",
              "      <th>5</th>\n",
              "      <td>0.703243</td>\n",
              "      <td>0.708970</td>\n",
              "      <td>30639.107317</td>\n",
              "      <td>-3.039160e+04</td>\n",
              "      <td>-0.008187</td>\n",
              "      <td>-8.253628e-03</td>\n",
              "      <td>0.001909</td>\n",
              "      <td>-1.696071e-03</td>\n",
              "    </tr>\n",
              "  </tbody>\n",
              "</table>\n",
              "</div>"
            ],
            "text/plain": [
              "   Точное y1  Точное y2  М. Эйлера y1  ...  Обр. м. Э y2  м. Адамса y1  м. Адамса y2\n",
              "0   1.000000   1.000000      0.000000  ...  2.220446e-16      0.000000  2.220446e-16\n",
              "1   0.928974   0.936539      0.098974  ... -2.013543e-03      0.003488 -3.407906e-03\n",
              "2   0.866521   0.873577     -2.288379  ... -4.047756e-03     -0.002895  2.969436e-03\n",
              "3   0.808267   0.814849     54.414500  ... -5.678324e-03      0.002572 -2.414608e-03\n",
              "4   0.753929   0.760068  -1291.124906  ... -7.070584e-03     -0.002044  2.197168e-03\n",
              "5   0.703243   0.708970  30639.107317  ... -8.253628e-03      0.001909 -1.696071e-03\n",
              "\n",
              "[6 rows x 8 columns]"
            ]
          },
          "metadata": {
            "tags": []
          },
          "execution_count": 188
        }
      ]
    },
    {
      "cell_type": "code",
      "metadata": {
        "colab": {
          "base_uri": "https://localhost:8080/",
          "height": 390
        },
        "id": "GOd9ZmuX0LLN",
        "outputId": "954e8338-afe6-4568-e03d-5f2533edbe25"
      },
      "source": [
        "compare(0, 0.5, 0.05)"
      ],
      "execution_count": 189,
      "outputs": [
        {
          "output_type": "execute_result",
          "data": {
            "text/html": [
              "<div>\n",
              "<style scoped>\n",
              "    .dataframe tbody tr th:only-of-type {\n",
              "        vertical-align: middle;\n",
              "    }\n",
              "\n",
              "    .dataframe tbody tr th {\n",
              "        vertical-align: top;\n",
              "    }\n",
              "\n",
              "    .dataframe thead th {\n",
              "        text-align: right;\n",
              "    }\n",
              "</style>\n",
              "<table border=\"1\" class=\"dataframe\">\n",
              "  <thead>\n",
              "    <tr style=\"text-align: right;\">\n",
              "      <th></th>\n",
              "      <th>Точное y1</th>\n",
              "      <th>Точное y2</th>\n",
              "      <th>М. Эйлера y1</th>\n",
              "      <th>М. Эйлера y2</th>\n",
              "      <th>Обр. м. Э y1</th>\n",
              "      <th>Обр. м. Э y2</th>\n",
              "      <th>м. Адамса y1</th>\n",
              "      <th>м. Адамса y2</th>\n",
              "    </tr>\n",
              "  </thead>\n",
              "  <tbody>\n",
              "    <tr>\n",
              "      <th>0</th>\n",
              "      <td>1.000000</td>\n",
              "      <td>1.000000</td>\n",
              "      <td>0.000000e+00</td>\n",
              "      <td>2.220446e-16</td>\n",
              "      <td>0.000000</td>\n",
              "      <td>2.220446e-16</td>\n",
              "      <td>0.000000</td>\n",
              "      <td>2.220446e-16</td>\n",
              "    </tr>\n",
              "    <tr>\n",
              "      <th>1</th>\n",
              "      <td>0.961869</td>\n",
              "      <td>0.969702</td>\n",
              "      <td>4.686901e-02</td>\n",
              "      <td>-4.529834e-02</td>\n",
              "      <td>-0.000874</td>\n",
              "      <td>-2.718237e-04</td>\n",
              "      <td>0.002941</td>\n",
              "      <td>-2.910642e-03</td>\n",
              "    </tr>\n",
              "    <tr>\n",
              "      <th>2</th>\n",
              "      <td>0.928974</td>\n",
              "      <td>0.936539</td>\n",
              "      <td>-5.247508e-01</td>\n",
              "      <td>5.228141e-01</td>\n",
              "      <td>-0.001123</td>\n",
              "      <td>-1.086415e-03</td>\n",
              "      <td>-0.002113</td>\n",
              "      <td>2.109194e-03</td>\n",
              "    </tr>\n",
              "    <tr>\n",
              "      <th>3</th>\n",
              "      <td>0.897204</td>\n",
              "      <td>0.904511</td>\n",
              "      <td>5.978646e+00</td>\n",
              "      <td>-5.927020e+00</td>\n",
              "      <td>-0.001596</td>\n",
              "      <td>-1.605429e-03</td>\n",
              "      <td>0.001539</td>\n",
              "      <td>-1.507612e-03</td>\n",
              "    </tr>\n",
              "    <tr>\n",
              "      <th>4</th>\n",
              "      <td>0.866521</td>\n",
              "      <td>0.873577</td>\n",
              "      <td>-6.792744e+01</td>\n",
              "      <td>6.738305e+01</td>\n",
              "      <td>-0.002054</td>\n",
              "      <td>-2.070031e-03</td>\n",
              "      <td>-0.001091</td>\n",
              "      <td>1.106964e-03</td>\n",
              "    </tr>\n",
              "    <tr>\n",
              "      <th>5</th>\n",
              "      <td>0.836887</td>\n",
              "      <td>0.843702</td>\n",
              "      <td>7.720361e+02</td>\n",
              "      <td>-7.657948e+02</td>\n",
              "      <td>-0.002480</td>\n",
              "      <td>-2.499932e-03</td>\n",
              "      <td>0.000811</td>\n",
              "      <td>-7.750601e-04</td>\n",
              "    </tr>\n",
              "    <tr>\n",
              "      <th>6</th>\n",
              "      <td>0.808267</td>\n",
              "      <td>0.814849</td>\n",
              "      <td>-8.774314e+03</td>\n",
              "      <td>8.703446e+03</td>\n",
              "      <td>-0.002875</td>\n",
              "      <td>-2.898193e-03</td>\n",
              "      <td>-0.000558</td>\n",
              "      <td>5.871030e-04</td>\n",
              "    </tr>\n",
              "    <tr>\n",
              "      <th>7</th>\n",
              "      <td>0.780625</td>\n",
              "      <td>0.786982</td>\n",
              "      <td>9.972189e+04</td>\n",
              "      <td>-9.891639e+04</td>\n",
              "      <td>-0.003240</td>\n",
              "      <td>-3.266559e-03</td>\n",
              "      <td>0.000434</td>\n",
              "      <td>-3.918892e-04</td>\n",
              "    </tr>\n",
              "    <tr>\n",
              "      <th>8</th>\n",
              "      <td>0.753929</td>\n",
              "      <td>0.760068</td>\n",
              "      <td>-1.133359e+06</td>\n",
              "      <td>1.124205e+06</td>\n",
              "      <td>-0.003577</td>\n",
              "      <td>-3.606606e-03</td>\n",
              "      <td>-0.000278</td>\n",
              "      <td>3.180799e-04</td>\n",
              "    </tr>\n",
              "    <tr>\n",
              "      <th>9</th>\n",
              "      <td>0.728145</td>\n",
              "      <td>0.734074</td>\n",
              "      <td>1.288086e+07</td>\n",
              "      <td>-1.277682e+07</td>\n",
              "      <td>-0.003888</td>\n",
              "      <td>-3.919834e-03</td>\n",
              "      <td>0.000239</td>\n",
              "      <td>-1.909017e-04</td>\n",
              "    </tr>\n",
              "    <tr>\n",
              "      <th>10</th>\n",
              "      <td>0.703243</td>\n",
              "      <td>0.708970</td>\n",
              "      <td>-1.463936e+08</td>\n",
              "      <td>1.452111e+08</td>\n",
              "      <td>-0.004174</td>\n",
              "      <td>-4.207668e-03</td>\n",
              "      <td>-0.000131</td>\n",
              "      <td>1.793830e-04</td>\n",
              "    </tr>\n",
              "  </tbody>\n",
              "</table>\n",
              "</div>"
            ],
            "text/plain": [
              "    Точное y1  Точное y2  ...  м. Адамса y1  м. Адамса y2\n",
              "0    1.000000   1.000000  ...      0.000000  2.220446e-16\n",
              "1    0.961869   0.969702  ...      0.002941 -2.910642e-03\n",
              "2    0.928974   0.936539  ...     -0.002113  2.109194e-03\n",
              "3    0.897204   0.904511  ...      0.001539 -1.507612e-03\n",
              "4    0.866521   0.873577  ...     -0.001091  1.106964e-03\n",
              "5    0.836887   0.843702  ...      0.000811 -7.750601e-04\n",
              "6    0.808267   0.814849  ...     -0.000558  5.871030e-04\n",
              "7    0.780625   0.786982  ...      0.000434 -3.918892e-04\n",
              "8    0.753929   0.760068  ...     -0.000278  3.180799e-04\n",
              "9    0.728145   0.734074  ...      0.000239 -1.909017e-04\n",
              "10   0.703243   0.708970  ...     -0.000131  1.793830e-04\n",
              "\n",
              "[11 rows x 8 columns]"
            ]
          },
          "metadata": {
            "tags": []
          },
          "execution_count": 189
        }
      ]
    },
    {
      "cell_type": "code",
      "metadata": {
        "colab": {
          "base_uri": "https://localhost:8080/",
          "height": 419
        },
        "id": "-jNT8m6W0av8",
        "outputId": "f9d6ece9-5d71-41cd-f9cc-14f6d7cea887"
      },
      "source": [
        "compare(0, 0.5, 0.001)"
      ],
      "execution_count": 190,
      "outputs": [
        {
          "output_type": "execute_result",
          "data": {
            "text/html": [
              "<div>\n",
              "<style scoped>\n",
              "    .dataframe tbody tr th:only-of-type {\n",
              "        vertical-align: middle;\n",
              "    }\n",
              "\n",
              "    .dataframe tbody tr th {\n",
              "        vertical-align: top;\n",
              "    }\n",
              "\n",
              "    .dataframe thead th {\n",
              "        text-align: right;\n",
              "    }\n",
              "</style>\n",
              "<table border=\"1\" class=\"dataframe\">\n",
              "  <thead>\n",
              "    <tr style=\"text-align: right;\">\n",
              "      <th></th>\n",
              "      <th>Точное y1</th>\n",
              "      <th>Точное y2</th>\n",
              "      <th>М. Эйлера y1</th>\n",
              "      <th>М. Эйлера y2</th>\n",
              "      <th>Обр. м. Э y1</th>\n",
              "      <th>Обр. м. Э y2</th>\n",
              "      <th>м. Адамса y1</th>\n",
              "      <th>м. Адамса y2</th>\n",
              "    </tr>\n",
              "  </thead>\n",
              "  <tbody>\n",
              "    <tr>\n",
              "      <th>0</th>\n",
              "      <td>1.000000</td>\n",
              "      <td>1.000000</td>\n",
              "      <td>0.000000</td>\n",
              "      <td>2.220446e-16</td>\n",
              "      <td>0.000000</td>\n",
              "      <td>2.220446e-16</td>\n",
              "      <td>0.000000e+00</td>\n",
              "      <td>2.220446e-16</td>\n",
              "    </tr>\n",
              "    <tr>\n",
              "      <th>1</th>\n",
              "      <td>0.998415</td>\n",
              "      <td>1.000186</td>\n",
              "      <td>0.000115</td>\n",
              "      <td>-1.136741e-04</td>\n",
              "      <td>-0.000085</td>\n",
              "      <td>8.386411e-05</td>\n",
              "      <td>4.042000e-06</td>\n",
              "      <td>-4.009295e-06</td>\n",
              "    </tr>\n",
              "    <tr>\n",
              "      <th>2</th>\n",
              "      <td>0.997026</td>\n",
              "      <td>1.000179</td>\n",
              "      <td>0.000177</td>\n",
              "      <td>-1.742174e-04</td>\n",
              "      <td>-0.000135</td>\n",
              "      <td>1.326250e-04</td>\n",
              "      <td>6.308821e-06</td>\n",
              "      <td>-6.257750e-06</td>\n",
              "    </tr>\n",
              "    <tr>\n",
              "      <th>3</th>\n",
              "      <td>0.995790</td>\n",
              "      <td>1.000021</td>\n",
              "      <td>0.000203</td>\n",
              "      <td>-2.002380e-04</td>\n",
              "      <td>-0.000160</td>\n",
              "      <td>1.572802e-04</td>\n",
              "      <td>7.385190e-06</td>\n",
              "      <td>-7.325369e-06</td>\n",
              "    </tr>\n",
              "    <tr>\n",
              "      <th>4</th>\n",
              "      <td>0.994674</td>\n",
              "      <td>0.999746</td>\n",
              "      <td>0.000208</td>\n",
              "      <td>-2.045437e-04</td>\n",
              "      <td>-0.000169</td>\n",
              "      <td>1.657619e-04</td>\n",
              "      <td>7.684630e-06</td>\n",
              "      <td>-7.622335e-06</td>\n",
              "    </tr>\n",
              "    <tr>\n",
              "      <th>...</th>\n",
              "      <td>...</td>\n",
              "      <td>...</td>\n",
              "      <td>...</td>\n",
              "      <td>...</td>\n",
              "      <td>...</td>\n",
              "      <td>...</td>\n",
              "      <td>...</td>\n",
              "      <td>...</td>\n",
              "    </tr>\n",
              "    <tr>\n",
              "      <th>496</th>\n",
              "      <td>0.705204</td>\n",
              "      <td>0.710946</td>\n",
              "      <td>0.000085</td>\n",
              "      <td>8.543065e-05</td>\n",
              "      <td>-0.000085</td>\n",
              "      <td>-8.536167e-05</td>\n",
              "      <td>9.825150e-09</td>\n",
              "      <td>9.905158e-09</td>\n",
              "    </tr>\n",
              "    <tr>\n",
              "      <th>497</th>\n",
              "      <td>0.704713</td>\n",
              "      <td>0.710452</td>\n",
              "      <td>0.000085</td>\n",
              "      <td>8.554333e-05</td>\n",
              "      <td>-0.000085</td>\n",
              "      <td>-8.547428e-05</td>\n",
              "      <td>9.838110e-09</td>\n",
              "      <td>9.918223e-09</td>\n",
              "    </tr>\n",
              "    <tr>\n",
              "      <th>498</th>\n",
              "      <td>0.704223</td>\n",
              "      <td>0.709958</td>\n",
              "      <td>0.000085</td>\n",
              "      <td>8.565581e-05</td>\n",
              "      <td>-0.000085</td>\n",
              "      <td>-8.558668e-05</td>\n",
              "      <td>9.851047e-09</td>\n",
              "      <td>9.931265e-09</td>\n",
              "    </tr>\n",
              "    <tr>\n",
              "      <th>499</th>\n",
              "      <td>0.703733</td>\n",
              "      <td>0.709464</td>\n",
              "      <td>0.000085</td>\n",
              "      <td>8.576808e-05</td>\n",
              "      <td>-0.000085</td>\n",
              "      <td>-8.569889e-05</td>\n",
              "      <td>9.863961e-09</td>\n",
              "      <td>9.944285e-09</td>\n",
              "    </tr>\n",
              "    <tr>\n",
              "      <th>500</th>\n",
              "      <td>0.703243</td>\n",
              "      <td>0.708970</td>\n",
              "      <td>0.000085</td>\n",
              "      <td>8.588017e-05</td>\n",
              "      <td>-0.000085</td>\n",
              "      <td>-8.581090e-05</td>\n",
              "      <td>9.876852e-09</td>\n",
              "      <td>9.957281e-09</td>\n",
              "    </tr>\n",
              "  </tbody>\n",
              "</table>\n",
              "<p>501 rows × 8 columns</p>\n",
              "</div>"
            ],
            "text/plain": [
              "     Точное y1  Точное y2  ...  м. Адамса y1  м. Адамса y2\n",
              "0     1.000000   1.000000  ...  0.000000e+00  2.220446e-16\n",
              "1     0.998415   1.000186  ...  4.042000e-06 -4.009295e-06\n",
              "2     0.997026   1.000179  ...  6.308821e-06 -6.257750e-06\n",
              "3     0.995790   1.000021  ...  7.385190e-06 -7.325369e-06\n",
              "4     0.994674   0.999746  ...  7.684630e-06 -7.622335e-06\n",
              "..         ...        ...  ...           ...           ...\n",
              "496   0.705204   0.710946  ...  9.825150e-09  9.905158e-09\n",
              "497   0.704713   0.710452  ...  9.838110e-09  9.918223e-09\n",
              "498   0.704223   0.709958  ...  9.851047e-09  9.931265e-09\n",
              "499   0.703733   0.709464  ...  9.863961e-09  9.944285e-09\n",
              "500   0.703243   0.708970  ...  9.876852e-09  9.957281e-09\n",
              "\n",
              "[501 rows x 8 columns]"
            ]
          },
          "metadata": {
            "tags": []
          },
          "execution_count": 190
        }
      ]
    },
    {
      "cell_type": "code",
      "metadata": {
        "id": "KRtkM45e0dUU"
      },
      "source": [
        ""
      ],
      "execution_count": null,
      "outputs": []
    }
  ]
}