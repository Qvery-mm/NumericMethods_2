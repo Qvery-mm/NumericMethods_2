{
 "cells": [
  {
   "cell_type": "markdown",
   "metadata": {
    "collapsed": true,
    "pycharm": {
     "name": "#%% md\n"
    }
   },
   "source": [
    "# Вычислительный пракртикум\n",
    "\n",
    "## Задание №1\n",
    "## Схема Гаусса решения СЛАУ. Нахождение обратной матрицы. Вычисление числа обусловленности\n",
    "\n",
    "### Ковальчуков Александр\n",
    "### 321 группа\n",
    "\n",
    "### Вариант №6"
   ]
  },
  {
   "cell_type": "raw",
   "metadata": {
    "pycharm": {
     "name": "#%% raw\n"
    }
   },
   "source": [
    "!pip install numpy"
   ]
  },
  {
   "cell_type": "code",
   "execution_count": 161,
   "metadata": {
    "pycharm": {
     "name": "#%%\n"
    }
   },
   "outputs": [],
   "source": [
    "import numpy as np"
   ]
  },
  {
   "cell_type": "markdown",
   "metadata": {
    "pycharm": {
     "name": "#%% md\n"
    }
   },
   "source": [
    "# Параметры задачи"
   ]
  },
  {
   "cell_type": "code",
   "execution_count": 162,
   "metadata": {
    "pycharm": {
     "name": "#%%\n"
    }
   },
   "outputs": [],
   "source": [
    "__A = np.array([[ 9.016024, 1.082197, -2.783575],\n",
    "              [ 1.082197, 6.846595,  0.647647],\n",
    "              [-2.783575, 0.647647,  5.432541]])\n",
    "\n",
    "__C = __A.copy()\n",
    "__C[0, 0] *= 10**-8\n",
    "\n",
    "__b = np.array([[-1.340873],[4.179164],[5.478007]])\n",
    "\n",
    "n, m  = __A.shape\n",
    "\n",
    "epsilon = 1e-10"
   ]
  },
  {
   "cell_type": "code",
   "execution_count": 163,
   "metadata": {
    "pycharm": {
     "name": "#%%\n"
    }
   },
   "outputs": [],
   "source": [
    "def check(A, b, x):\n",
    "    print(\"Матрица:\\n\", A)\n",
    "    print(\"Столбец свободных членов:\\n\", b)\n",
    "\n",
    "    print(\"Решение системы:\")\n",
    "    print(\"x =\\n\", x)\n",
    "\n",
    "    dx = np.dot(A, x) - b\n",
    "\n",
    "    print(\"Вектор невязки:\")\n",
    "    print(\"dx =\\n\", dx)\n"
   ]
  },
  {
   "cell_type": "markdown",
   "metadata": {
    "pycharm": {
     "name": "#%% md\n"
    }
   },
   "source": [
    "# Схема Гаусса единственного деления"
   ]
  },
  {
   "cell_type": "code",
   "execution_count": 164,
   "metadata": {
    "pycharm": {
     "name": "#%%\n"
    }
   },
   "outputs": [],
   "source": [
    "def solve_Gauss(A, b):\n",
    "    A = np.hstack((A, b))\n",
    "    x = np.zeros((3, 1))\n",
    "\n",
    "    # Прямой ход\n",
    "    for k in range(n):\n",
    "        if abs(A[k, k]) < epsilon:\n",
    "            raise ZeroDivisionError\n",
    "        A[k, :] /= A[k, k]\n",
    "        for i in range(k + 1, n):\n",
    "            A[i, :] -= A[k, :] * A[i, k]\n",
    "\n",
    "    # Обратный ход\n",
    "    for i in range(0, n)[::-1]:\n",
    "        x[i] = A[i, n] - np.dot(A[i, :-1], x)\n",
    "\n",
    "    return x"
   ]
  },
  {
   "cell_type": "markdown",
   "metadata": {
    "pycharm": {
     "name": "#%% md\n"
    }
   },
   "source": [
    "# Схема Гаусса с выбором главного элемента по столбцу и строке."
   ]
  },
  {
   "cell_type": "code",
   "execution_count": 165,
   "metadata": {
    "pycharm": {
     "name": "#%%\n"
    }
   },
   "outputs": [],
   "source": [
    "def transform(A, b):\n",
    "\n",
    "    # делаем из квадратной матрицы и столбца расширенную матрицу\n",
    "    A = np.hstack((A, b))\n",
    "\n",
    "    # добавляем служебную строчку к матрице\n",
    "    c = np.array(range(A.shape[1])).reshape((1, A.shape[1]))\n",
    "    A = np.vstack((A, c))\n",
    "\n",
    "    # переставляем строки и столбцы\n",
    "    for k in range(n):\n",
    "        for p in range(k, n):\n",
    "            for q in range(k, m):\n",
    "                if abs(A[p, q]) > abs(A[k, k]):\n",
    "                    A[[k, p], :] = A[[p, k], :]\n",
    "                    A[:, [k, q]] =  A[:, [q, k]]\n",
    "\n",
    "    # разбираем матрицу обратно на запчасти\n",
    "    b = A[:-1, -1].reshape((n, 1))\n",
    "    c = A[-1, :-1]\n",
    "    A = A[:-1, :-1]\n",
    "\n",
    "    # отладочный вывод\n",
    "    # print(\"A =\\n\", A)\n",
    "    # print(\"b =\\n\", b)\n",
    "    # print(\"c =\\n\", c)\n",
    "    return A, b, c"
   ]
  },
  {
   "cell_type": "code",
   "execution_count": 166,
   "metadata": {
    "pycharm": {
     "name": "#%%\n"
    }
   },
   "outputs": [],
   "source": [
    "def transform_solver(A, b):\n",
    "    A, b, c = transform(A, b)\n",
    "\n",
    "    x = np.zeros((n, 1))\n",
    "    # Решение по схеме Гаусса подготовленной матрицы\n",
    "    unordered_x = solve_Gauss(A.copy(), b.copy())\n",
    "\n",
    "    # Обратная перестановка элементов\n",
    "    for i in range(n):\n",
    "        x[int(c[i])] = unordered_x[i]\n",
    "    x = np.array(x)\n",
    "    return x\n"
   ]
  },
  {
   "cell_type": "markdown",
   "metadata": {
    "pycharm": {
     "name": "#%% md\n"
    }
   },
   "source": [
    "# LU-разложение"
   ]
  },
  {
   "cell_type": "code",
   "execution_count": 167,
   "metadata": {
    "pycharm": {
     "name": "#%%\n"
    }
   },
   "outputs": [],
   "source": [
    "def LU(A):\n",
    "    L = np.zeros(A.shape)\n",
    "    U = np.zeros(A.shape)\n",
    "\n",
    "    # LU-разложение\n",
    "    for i in range(n):\n",
    "        for j in range(i, n):\n",
    "            L[j, i] = A[j, i] - np.dot(L[j, :i], U[:i, i])\n",
    "            U[i, j] = (A[i, j] - np.dot(L[i, :i], U[:i, j])) / L[i, i]\n",
    "\n",
    "    print(\"L=\\n\", L)\n",
    "    print(\"U=\\n\", U)\n",
    "    print(\"Проверка правильности разложения:\")\n",
    "    print(\"LU - A =\\n\", np.dot(L, U) - __A)\n",
    "\n",
    "    return L, U"
   ]
  },
  {
   "cell_type": "markdown",
   "metadata": {
    "pycharm": {
     "name": "#%% md\n"
    }
   },
   "source": [
    "# Нахождение обратной матрицы при помощи LU-разложения"
   ]
  },
  {
   "cell_type": "code",
   "execution_count": 168,
   "metadata": {
    "pycharm": {
     "name": "#%%\n"
    }
   },
   "outputs": [],
   "source": [
    "def inv(A):\n",
    "    A_inv = np.zeros(A.shape)\n",
    "    for i in range(n):\n",
    "        b = np.zeros((n, 1))\n",
    "        b[i] = 1\n",
    "        y = solve_Gauss(L, b)\n",
    "        x = solve_Gauss(U, y)\n",
    "        A_inv[:, [i]] = x\n",
    "    return A_inv\n"
   ]
  },
  {
   "cell_type": "markdown",
   "metadata": {
    "pycharm": {
     "name": "#%% md\n"
    }
   },
   "source": [
    "# Вычисление числа обусловленности"
   ]
  },
  {
   "cell_type": "code",
   "execution_count": 169,
   "metadata": {
    "pycharm": {
     "name": "#%%\n"
    }
   },
   "outputs": [],
   "source": [
    "def norm1(A):\n",
    "    n, m = A.shape\n",
    "    norm = 0\n",
    "    for j in range(n):\n",
    "        s = 0\n",
    "        for i in range(m):\n",
    "            s += abs(A[i, j])\n",
    "        norm = max(norm, s)\n",
    "    return norm\n",
    "\n",
    "\n",
    "def cond(A):\n",
    "    return norm1(A) * norm1(inv(A))"
   ]
  },
  {
   "cell_type": "markdown",
   "metadata": {
    "pycharm": {
     "name": "#%% md\n"
    }
   },
   "source": [
    "# Тестрирование программы\n",
    "\n",
    "## Схема Гаусса"
   ]
  },
  {
   "cell_type": "code",
   "execution_count": 170,
   "metadata": {
    "pycharm": {
     "name": "#%%\n"
    }
   },
   "outputs": [
    {
     "name": "stdout",
     "output_type": "stream",
     "text": [
      "Решение системы с матрицей A:\n",
      "Матрица:\n",
      " [[ 9.016024  1.082197 -2.783575]\n",
      " [ 1.082197  6.846595  0.647647]\n",
      " [-2.783575  0.647647  5.432541]]\n",
      "Столбец свободных членов:\n",
      " [[-1.340873]\n",
      " [ 4.179164]\n",
      " [ 5.478007]]\n",
      "Решение системы:\n",
      "x =\n",
      " [[0.10000016]\n",
      " [0.49999994]\n",
      " [1.00000009]]\n",
      "Вектор невязки:\n",
      "dx =\n",
      " [[-2.22044605e-16]\n",
      " [-8.88178420e-16]\n",
      " [ 0.00000000e+00]]\n",
      "\n",
      "Решение системы с матрицей C:\n",
      "Матрица:\n",
      " [[ 9.016024e-08  1.082197e+00 -2.783575e+00]\n",
      " [ 1.082197e+00  6.846595e+00  6.476470e-01]\n",
      " [-2.783575e+00  6.476470e-01  5.432541e+00]]\n",
      "Столбец свободных членов:\n",
      " [[-1.340873]\n",
      " [ 4.179164]\n",
      " [ 5.478007]]\n",
      "Решение системы:\n",
      "x =\n",
      " [[-0.42368555]\n",
      " [ 0.60939167]\n",
      " [ 0.71862795]]\n",
      "Вектор невязки:\n",
      "dx =\n",
      " [[-2.22044605e-16]\n",
      " [ 4.03274747e-10]\n",
      " [ 3.19230864e-09]]\n"
     ]
    }
   ],
   "source": [
    "print(\"Решение системы с матрицей A:\")\n",
    "x = solve_Gauss(__A.copy(), __b.copy())\n",
    "check(__A, __b, x)\n",
    "print()\n",
    "print(\"Решение системы с матрицей C:\")\n",
    "x = solve_Gauss(__C.copy(), __b.copy())\n",
    "check(__C, __b, x)"
   ]
  },
  {
   "cell_type": "markdown",
   "metadata": {
    "pycharm": {
     "name": "#%% md\n"
    }
   },
   "source": [
    "## Схема Гаусса c выбором главного элемента по строке и столбцу"
   ]
  },
  {
   "cell_type": "code",
   "execution_count": 171,
   "metadata": {
    "pycharm": {
     "name": "#%%\n"
    }
   },
   "outputs": [
    {
     "name": "stdout",
     "output_type": "stream",
     "text": [
      "Решение системы с матрицей A:\n",
      "Матрица:\n",
      " [[ 9.016024  1.082197 -2.783575]\n",
      " [ 1.082197  6.846595  0.647647]\n",
      " [-2.783575  0.647647  5.432541]]\n",
      "Столбец свободных членов:\n",
      " [[-1.340873]\n",
      " [ 4.179164]\n",
      " [ 5.478007]]\n",
      "Решение системы:\n",
      "x =\n",
      " [[0.10000016]\n",
      " [0.49999994]\n",
      " [1.00000009]]\n",
      "Вектор невязки:\n",
      "dx =\n",
      " [[-2.22044605e-16]\n",
      " [-8.88178420e-16]\n",
      " [ 0.00000000e+00]]\n",
      "\n",
      "Решение системы с матрицей C:\n",
      "Матрица:\n",
      " [[ 9.016024e-08  1.082197e+00 -2.783575e+00]\n",
      " [ 1.082197e+00  6.846595e+00  6.476470e-01]\n",
      " [-2.783575e+00  6.476470e-01  5.432541e+00]]\n",
      "Столбец свободных членов:\n",
      " [[-1.340873]\n",
      " [ 4.179164]\n",
      " [ 5.478007]]\n",
      "Решение системы:\n",
      "x =\n",
      " [[-0.42368555]\n",
      " [ 0.60939167]\n",
      " [ 0.71862795]]\n",
      "Вектор невязки:\n",
      "dx =\n",
      " [[-2.22044605e-16]\n",
      " [ 0.00000000e+00]\n",
      " [ 8.88178420e-16]]\n"
     ]
    }
   ],
   "source": [
    "print(\"Решение системы с матрицей A:\")\n",
    "x = transform_solver(__A.copy(), __b.copy())\n",
    "check(__A, __b, x)\n",
    "print()\n",
    "print(\"Решение системы с матрицей C:\")\n",
    "x = transform_solver(__C.copy(), __b.copy())\n",
    "check(__C, __b, x)"
   ]
  },
  {
   "cell_type": "markdown",
   "metadata": {
    "pycharm": {
     "name": "#%% md\n"
    }
   },
   "source": [
    "## LU-разложение\n",
    "### Решение системы и обращение матрицы"
   ]
  },
  {
   "cell_type": "code",
   "execution_count": 172,
   "metadata": {
    "pycharm": {
     "name": "#%%\n"
    }
   },
   "outputs": [
    {
     "name": "stdout",
     "output_type": "stream",
     "text": [
      "Решение системы с матрицей A:\n",
      "L=\n",
      " [[ 9.016024    0.          0.        ]\n",
      " [ 1.082197    6.71669846  0.        ]\n",
      " [-2.783575    0.98176063  4.42964886]]\n",
      "U=\n",
      " [[ 1.          0.1200304  -0.30873642]\n",
      " [ 0.          1.          0.14616714]\n",
      " [ 0.          0.          1.        ]]\n",
      "Проверка правильности разложения:\n",
      "LU - A =\n",
      " [[0.00000000e+00 0.00000000e+00 0.00000000e+00]\n",
      " [0.00000000e+00 0.00000000e+00 0.00000000e+00]\n",
      " [0.00000000e+00 1.11022302e-16 0.00000000e+00]]\n",
      "Матрица:\n",
      " [[ 9.016024  1.082197 -2.783575]\n",
      " [ 1.082197  6.846595  0.647647]\n",
      " [-2.783575  0.647647  5.432541]]\n",
      "Столбец свободных членов:\n",
      " [[-1.340873]\n",
      " [ 4.179164]\n",
      " [ 5.478007]]\n",
      "Решение системы:\n",
      "x =\n",
      " [[0.10000016]\n",
      " [0.49999994]\n",
      " [1.00000009]]\n",
      "Вектор невязки:\n",
      "dx =\n",
      " [[-2.22044605e-16]\n",
      " [-8.88178420e-16]\n",
      " [ 0.00000000e+00]]\n",
      "\n",
      "Обратная матрица для A:\n",
      "inv(A)=\n",
      " [[ 0.13709197 -0.02863689  0.07365842]\n",
      " [-0.02863689  0.15370581 -0.03299746]\n",
      " [ 0.07365842 -0.03299746  0.22575153]]\n",
      "Проверка:\n",
      "A*inv(A) =\n",
      " [[ 1.00000000e+00  3.45673394e-17 -1.35353281e-16]\n",
      " [-1.63381260e-17  1.00000000e+00 -1.74197483e-17]\n",
      " [-4.49221255e-17 -3.45707033e-17  1.00000000e+00]]\n",
      "\n",
      "_____________________________\n",
      "\n",
      "Решение системы с матрицей C:\n",
      "L=\n",
      " [[ 9.01602400e-08  0.00000000e+00  0.00000000e+00]\n",
      " [ 1.08219700e+00 -1.29896474e+07  0.00000000e+00]\n",
      " [-2.78357500e+00  3.34113637e+07  5.40610928e+01]]\n",
      "U=\n",
      " [[ 1.00000000e+00  1.20030404e+07 -3.08736423e+07]\n",
      " [ 0.00000000e+00  1.00000000e+00 -2.57215324e+00]\n",
      " [ 0.00000000e+00  0.00000000e+00  1.00000000e+00]]\n",
      "Проверка правильности разложения:\n",
      "LU - A =\n",
      " [[-9.01602391e+00  0.00000000e+00  0.00000000e+00]\n",
      " [ 0.00000000e+00  4.75645301e-10  2.70652756e-09]\n",
      " [ 0.00000000e+00  8.49247006e-10  4.29493330e-09]]\n",
      "Матрица:\n",
      " [[ 9.016024e-08  1.082197e+00 -2.783575e+00]\n",
      " [ 1.082197e+00  6.846595e+00  6.476470e-01]\n",
      " [-2.783575e+00  6.476470e-01  5.432541e+00]]\n",
      "Столбец свободных членов:\n",
      " [[-1.340873]\n",
      " [ 4.179164]\n",
      " [ 5.478007]]\n",
      "Решение системы:\n",
      "x =\n",
      " [[-0.42368555]\n",
      " [ 0.60939167]\n",
      " [ 0.71862795]]\n",
      "Вектор невязки:\n",
      "dx =\n",
      " [[-2.22044605e-16]\n",
      " [-1.15425891e-10]\n",
      " [ 2.99064862e-09]]\n",
      "\n",
      "Обратная матрица для C:\n",
      "inv(C)=\n",
      " [[-0.58083795  0.12133016 -0.31207958]\n",
      " [ 0.12133016  0.12237947  0.04757864]\n",
      " [-0.31207958  0.04757864  0.01849759]]\n",
      "Проверка:\n",
      "C*inv(C) =\n",
      " [[ 1.00000000e+00 -3.96798124e-18  2.30137660e-18]\n",
      " [ 5.86264737e-11  1.00000000e+00  2.69510742e-11]\n",
      " [ 3.25340207e-10 -3.18970625e-10  1.00000000e+00]]\n"
     ]
    }
   ],
   "source": [
    "print(\"Решение системы с матрицей A:\")\n",
    "L, U = LU(__A.copy())\n",
    "y = solve_Gauss(L, __b.copy())\n",
    "x = solve_Gauss(U, y)\n",
    "check(__A, __b, x)\n",
    "print()\n",
    "print(\"Обратная матрица для A:\")\n",
    "print(\"inv(A)=\\n\", inv(__A.copy()))\n",
    "print(\"Проверка:\")\n",
    "print(\"A*inv(A) =\\n\", np.dot(__A.copy(), inv(__A.copy())))\n",
    "print(\"\\n_____________________________\\n\")\n",
    "print(\"Решение системы с матрицей C:\")\n",
    "L, U = LU(__C.copy())\n",
    "y = solve_Gauss(L, __b.copy())\n",
    "x = solve_Gauss(U, y)\n",
    "check(__C, __b, x)\n",
    "print()\n",
    "print(\"Обратная матрица для C:\")\n",
    "print(\"inv(C)=\\n\", inv(__C.copy()))\n",
    "print(\"Проверка:\")\n",
    "print(\"C*inv(C) =\\n\", np.dot(__C.copy(), inv(__C.copy())))\n"
   ]
  },
  {
   "cell_type": "markdown",
   "metadata": {
    "pycharm": {
     "name": "#%% md\n"
    }
   },
   "source": [
    "## Вычисление числа обусловленности"
   ]
  },
  {
   "cell_type": "code",
   "execution_count": 173,
   "metadata": {
    "pycharm": {
     "name": "#%%\n"
    }
   },
   "outputs": [
    {
     "name": "stdout",
     "output_type": "stream",
     "text": [
      "cond(A) = 13.065331839479951\n",
      "cond(C) = 8.99005114981671\n"
     ]
    }
   ],
   "source": [
    "print(\"cond(A) =\", cond(__A).copy())\n",
    "print(\"cond(C) =\", cond(__C).copy())"
   ]
  },
  {
   "cell_type": "markdown",
   "metadata": {
    "pycharm": {
     "name": "#%% md\n"
    }
   },
   "source": [
    "При решении СЛАУ, LU-разложние показывает слегка лучшую точность (в терминах нормы вектора невязки) по сравнению с прямым методом Гаусса.\n",
    "В то же время, Схема с выбором главного элемента может в порядки раз уменьшить норму невязки в случае, когда ведущим элементом прямого метода Гаусса оказывается малое по модулю число.\n",
    "\n",
    "\n",
    "\n"
   ]
  }
 ],
 "metadata": {
  "kernelspec": {
   "display_name": "Python 3",
   "language": "python",
   "name": "python3"
  },
  "language_info": {
   "codemirror_mode": {
    "name": "ipython",
    "version": 3
   },
   "file_extension": ".py",
   "mimetype": "text/x-python",
   "name": "python",
   "nbconvert_exporter": "python",
   "pygments_lexer": "ipython3",
   "version": "3.7.7"
  }
 },
 "nbformat": 4,
 "nbformat_minor": 1
}